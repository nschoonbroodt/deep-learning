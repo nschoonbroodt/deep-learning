{
 "cells": [
  {
   "cell_type": "markdown",
   "metadata": {
    "collapsed": true,
    "deletable": true,
    "editable": true
   },
   "source": [
    "# Image Classification\n",
    "In this project, you'll classify images from the [CIFAR-10 dataset](https://www.cs.toronto.edu/~kriz/cifar.html).  The dataset consists of airplanes, dogs, cats, and other objects. You'll preprocess the images, then train a convolutional neural network on all the samples. The images need to be normalized and the labels need to be one-hot encoded.  You'll get to apply what you learned and build a convolutional, max pooling, dropout, and fully connected layers.  At the end, you'll get to see your neural network's predictions on the sample images.\n",
    "## Get the Data\n",
    "Run the following cell to download the [CIFAR-10 dataset for python](https://www.cs.toronto.edu/~kriz/cifar-10-python.tar.gz)."
   ]
  },
  {
   "cell_type": "code",
   "execution_count": 1,
   "metadata": {
    "collapsed": false,
    "deletable": true,
    "editable": true
   },
   "outputs": [
    {
     "name": "stdout",
     "output_type": "stream",
     "text": [
      "All files found!\n"
     ]
    }
   ],
   "source": [
    "\"\"\"\n",
    "DON'T MODIFY ANYTHING IN THIS CELL THAT IS BELOW THIS LINE\n",
    "\"\"\"\n",
    "from urllib.request import urlretrieve\n",
    "from os.path import isfile, isdir\n",
    "from tqdm import tqdm\n",
    "import problem_unittests as tests\n",
    "import tarfile\n",
    "\n",
    "cifar10_dataset_folder_path = 'cifar-10-batches-py'\n",
    "\n",
    "# Use Floyd's cifar-10 dataset if present\n",
    "floyd_cifar10_location = '/input/cifar-10/python.tar.gz'\n",
    "if isfile(floyd_cifar10_location):\n",
    "    tar_gz_path = floyd_cifar10_location\n",
    "else:\n",
    "    tar_gz_path = 'cifar-10-python.tar.gz'\n",
    "\n",
    "class DLProgress(tqdm):\n",
    "    last_block = 0\n",
    "\n",
    "    def hook(self, block_num=1, block_size=1, total_size=None):\n",
    "        self.total = total_size\n",
    "        self.update((block_num - self.last_block) * block_size)\n",
    "        self.last_block = block_num\n",
    "\n",
    "if not isfile(tar_gz_path):\n",
    "    with DLProgress(unit='B', unit_scale=True, miniters=1, desc='CIFAR-10 Dataset') as pbar:\n",
    "        urlretrieve(\n",
    "            'https://www.cs.toronto.edu/~kriz/cifar-10-python.tar.gz',\n",
    "            tar_gz_path,\n",
    "            pbar.hook)\n",
    "\n",
    "if not isdir(cifar10_dataset_folder_path):\n",
    "    with tarfile.open(tar_gz_path) as tar:\n",
    "        tar.extractall()\n",
    "        tar.close()\n",
    "\n",
    "\n",
    "tests.test_folder_path(cifar10_dataset_folder_path)"
   ]
  },
  {
   "cell_type": "markdown",
   "metadata": {
    "deletable": true,
    "editable": true
   },
   "source": [
    "## Explore the Data\n",
    "The dataset is broken into batches to prevent your machine from running out of memory.  The CIFAR-10 dataset consists of 5 batches, named `data_batch_1`, `data_batch_2`, etc.. Each batch contains the labels and images that are one of the following:\n",
    "* airplane\n",
    "* automobile\n",
    "* bird\n",
    "* cat\n",
    "* deer\n",
    "* dog\n",
    "* frog\n",
    "* horse\n",
    "* ship\n",
    "* truck\n",
    "\n",
    "Understanding a dataset is part of making predictions on the data.  Play around with the code cell below by changing the `batch_id` and `sample_id`. The `batch_id` is the id for a batch (1-5). The `sample_id` is the id for a image and label pair in the batch.\n",
    "\n",
    "Ask yourself \"What are all possible labels?\", \"What is the range of values for the image data?\", \"Are the labels in order or random?\".  Answers to questions like these will help you preprocess the data and end up with better predictions."
   ]
  },
  {
   "cell_type": "code",
   "execution_count": 2,
   "metadata": {
    "collapsed": false,
    "deletable": true,
    "editable": true
   },
   "outputs": [
    {
     "name": "stdout",
     "output_type": "stream",
     "text": [
      "\n",
      "Stats of batch 1:\n",
      "Samples: 10000\n",
      "Label Counts: {0: 1005, 1: 974, 2: 1032, 3: 1016, 4: 999, 5: 937, 6: 1030, 7: 1001, 8: 1025, 9: 981}\n",
      "First 20 Labels: [6, 9, 9, 4, 1, 1, 2, 7, 8, 3, 4, 7, 7, 2, 9, 9, 9, 3, 2, 6]\n",
      "\n",
      "Example of Image 5:\n",
      "Image - Min Value: 0 Max Value: 252\n",
      "Image - Shape: (32, 32, 3)\n",
      "Label - Label Id: 1 Name: automobile\n",
      "\n",
      "Stats of batch 2:\n",
      "Samples: 10000\n",
      "Label Counts: {0: 984, 1: 1007, 2: 1010, 3: 995, 4: 1010, 5: 988, 6: 1008, 7: 1026, 8: 987, 9: 985}\n",
      "First 20 Labels: [1, 6, 6, 8, 8, 3, 4, 6, 0, 6, 0, 3, 6, 6, 5, 4, 8, 3, 2, 6]\n",
      "\n",
      "Example of Image 5:\n",
      "Image - Min Value: 3 Max Value: 219\n",
      "Image - Shape: (32, 32, 3)\n",
      "Label - Label Id: 3 Name: cat\n",
      "\n",
      "Stats of batch 3:\n",
      "Samples: 10000\n",
      "Label Counts: {0: 994, 1: 1042, 2: 965, 3: 997, 4: 990, 5: 1029, 6: 978, 7: 1015, 8: 961, 9: 1029}\n",
      "First 20 Labels: [8, 5, 0, 6, 9, 2, 8, 3, 6, 2, 7, 4, 6, 9, 0, 0, 7, 3, 7, 2]\n",
      "\n",
      "Example of Image 5:\n",
      "Image - Min Value: 9 Max Value: 255\n",
      "Image - Shape: (32, 32, 3)\n",
      "Label - Label Id: 2 Name: bird\n",
      "\n",
      "Stats of batch 4:\n",
      "Samples: 10000\n",
      "Label Counts: {0: 1003, 1: 963, 2: 1041, 3: 976, 4: 1004, 5: 1021, 6: 1004, 7: 981, 8: 1024, 9: 983}\n",
      "First 20 Labels: [0, 6, 0, 2, 7, 2, 1, 2, 4, 1, 5, 6, 6, 3, 1, 3, 5, 5, 8, 1]\n",
      "\n",
      "Example of Image 5:\n",
      "Image - Min Value: 13 Max Value: 169\n",
      "Image - Shape: (32, 32, 3)\n",
      "Label - Label Id: 2 Name: bird\n",
      "\n",
      "Stats of batch 5:\n",
      "Samples: 10000\n",
      "Label Counts: {0: 1014, 1: 1014, 2: 952, 3: 1016, 4: 997, 5: 1025, 6: 980, 7: 977, 8: 1003, 9: 1022}\n",
      "First 20 Labels: [1, 8, 5, 1, 5, 7, 4, 3, 8, 2, 7, 2, 0, 1, 5, 9, 6, 2, 0, 8]\n",
      "\n",
      "Example of Image 5:\n",
      "Image - Min Value: 1 Max Value: 255\n",
      "Image - Shape: (32, 32, 3)\n",
      "Label - Label Id: 7 Name: horse\n"
     ]
    },
    {
     "data": {
      "image/png": "[encoded data removed]",
      "text/plain": [
       "<matplotlib.figure.Figure at 0x7f749b93ca90>"
      ]
     },
     "metadata": {
      "image/png": {
       "height": 250,
       "width": 253
      }
     },
     "output_type": "display_data"
    }
   ],
   "source": [
    "%matplotlib inline\n",
    "%config InlineBackend.figure_format = 'retina'\n",
    "\n",
    "import helper\n",
    "import numpy as np\n",
    "\n",
    "# Explore the dataset\n",
    "for batch_id in range(1,6):\n",
    "    sample_id = 5\n",
    "    helper.display_stats(cifar10_dataset_folder_path, batch_id, sample_id)\n",
    "    "
   ]
  },
  {
   "cell_type": "markdown",
   "metadata": {
    "deletable": true,
    "editable": true
   },
   "source": [
    "#### What are all possible labels?\n",
    "Label id goes from 0 to 9.\n",
    "\n",
    "#### What is the range of values for the image data?\n",
    "The images seems to be standard images: 3 color channels, integer from 0 to 255. Images are 32 by 32 pixels\n",
    "\n",
    "#### Are the labels in order or random?\n",
    "The labels are at random, as showed by the labels of the first 20 images of each batch\n",
    "\n",
    "#### Batch size\n",
    "Each batch contains 10000 instances"
   ]
  },
  {
   "cell_type": "markdown",
   "metadata": {
    "deletable": true,
    "editable": true
   },
   "source": [
    "## Implement Preprocess Functions\n",
    "### Normalize\n",
    "In the cell below, implement the `normalize` function to take in image data, `x`, and return it as a normalized Numpy array. The values should be in the range of 0 to 1, inclusive.  The return object should be the same shape as `x`."
   ]
  },
  {
   "cell_type": "code",
   "execution_count": 3,
   "metadata": {
    "collapsed": false,
    "deletable": true,
    "editable": true
   },
   "outputs": [
    {
     "name": "stdout",
     "output_type": "stream",
     "text": [
      "Tests Passed\n"
     ]
    }
   ],
   "source": [
    "def normalize(x):\n",
    "    \"\"\"\n",
    "    Normalize a list of sample image data in the range of 0 to 1\n",
    "    : x: List of image data.  The image shape is (32, 32, 3)\n",
    "    : return: Numpy array of normalize data\n",
    "    \"\"\"\n",
    "    return x/255\n",
    "\n",
    "\n",
    "\"\"\"\n",
    "DON'T MODIFY ANYTHING IN THIS CELL THAT IS BELOW THIS LINE\n",
    "\"\"\"\n",
    "tests.test_normalize(normalize)"
   ]
  },
  {
   "cell_type": "markdown",
   "metadata": {
    "deletable": true,
    "editable": true
   },
   "source": [
    "### One-hot encode\n",
    "Just like the previous code cell, you'll be implementing a function for preprocessing.  This time, you'll implement the `one_hot_encode` function. The input, `x`, are a list of labels.  Implement the function to return the list of labels as One-Hot encoded Numpy array.  The possible values for labels are 0 to 9. The one-hot encoding function should return the same encoding for each value between each call to `one_hot_encode`.  Make sure to save the map of encodings outside the function.\n",
    "\n",
    "Hint: Don't reinvent the wheel."
   ]
  },
  {
   "cell_type": "code",
   "execution_count": 4,
   "metadata": {
    "collapsed": false,
    "deletable": true,
    "editable": true
   },
   "outputs": [
    {
     "name": "stdout",
     "output_type": "stream",
     "text": [
      "Tests Passed\n"
     ]
    }
   ],
   "source": [
    "from sklearn.preprocessing import OneHotEncoder\n",
    "def one_hot_encode(x):\n",
    "    \"\"\"\n",
    "    One hot encode a list of sample labels. Return a one-hot encoded vector for each label.\n",
    "    : x: List of sample Labels\n",
    "    : return: Numpy array of one-hot encoded labels\n",
    "    \"\"\"\n",
    "    # it seems that we get sometimes a list, sometimes a np.array, so just to be sure\n",
    "    x = np.array(x)\n",
    "    return OneHotEncoder(n_values = 10).fit_transform(x.reshape(-1,1)).toarray()\n",
    "\n",
    "\n",
    "\"\"\"\n",
    "DON'T MODIFY ANYTHING IN THIS CELL THAT IS BELOW THIS LINE\n",
    "\"\"\"\n",
    "tests.test_one_hot_encode(one_hot_encode)"
   ]
  },
  {
   "cell_type": "markdown",
   "metadata": {
    "deletable": true,
    "editable": true
   },
   "source": [
    "### Randomize Data\n",
    "As you saw from exploring the data above, the order of the samples are randomized.  It doesn't hurt to randomize it again, but you don't need to for this dataset."
   ]
  },
  {
   "cell_type": "markdown",
   "metadata": {
    "deletable": true,
    "editable": true
   },
   "source": [
    "## Preprocess all the data and save it\n",
    "Running the code cell below will preprocess all the CIFAR-10 data and save it to file. The code below also uses 10% of the training data for validation."
   ]
  },
  {
   "cell_type": "code",
   "execution_count": 5,
   "metadata": {
    "collapsed": false,
    "deletable": true,
    "editable": true
   },
   "outputs": [],
   "source": [
    "\"\"\"\n",
    "DON'T MODIFY ANYTHING IN THIS CELL\n",
    "\"\"\"\n",
    "# Preprocess Training, Validation, and Testing Data\n",
    "helper.preprocess_and_save_data(cifar10_dataset_folder_path, normalize, one_hot_encode)"
   ]
  },
  {
   "cell_type": "markdown",
   "metadata": {
    "deletable": true,
    "editable": true
   },
   "source": [
    "# Check Point\n",
    "This is your first checkpoint.  If you ever decide to come back to this notebook or have to restart the notebook, you can start from here.  The preprocessed data has been saved to disk."
   ]
  },
  {
   "cell_type": "code",
   "execution_count": 6,
   "metadata": {
    "collapsed": true,
    "deletable": true,
    "editable": true
   },
   "outputs": [],
   "source": [
    "\"\"\"\n",
    "DON'T MODIFY ANYTHING IN THIS CELL\n",
    "\"\"\"\n",
    "import pickle\n",
    "import problem_unittests as tests\n",
    "import helper\n",
    "\n",
    "# Load the Preprocessed Validation data\n",
    "valid_features, valid_labels = pickle.load(open('preprocess_validation.p', mode='rb'))"
   ]
  },
  {
   "cell_type": "markdown",
   "metadata": {
    "deletable": true,
    "editable": true
   },
   "source": [
    "## Build the network\n",
    "For the neural network, you'll build each layer into a function.  Most of the code you've seen has been outside of functions. To test your code more thoroughly, we require that you put each layer in a function.  This allows us to give you better feedback and test for simple mistakes using our unittests before you submit your project.\n",
    "\n",
    "If you're finding it hard to dedicate enough time for this course a week, we've provided a small shortcut to this part of the project. In the next couple of problems, you'll have the option to use [TensorFlow Layers](https://www.tensorflow.org/api_docs/python/tf/layers) or [TensorFlow Layers (contrib)](https://www.tensorflow.org/api_guides/python/contrib.layers) to build each layer, except \"Convolutional & Max Pooling\" layer.  TF Layers is similar to Keras's and TFLearn's abstraction to layers, so it's easy to pickup.\n",
    "\n",
    "If you would like to get the most of this course, try to solve all the problems without TF Layers.  Let's begin!\n",
    "### Input\n",
    "The neural network needs to read the image data, one-hot encoded labels, and dropout keep probability. Implement the following functions\n",
    "* Implement `neural_net_image_input`\n",
    " * Return a [TF Placeholder](https://www.tensorflow.org/api_docs/python/tf/placeholder)\n",
    " * Set the shape using `image_shape` with batch size set to `None`.\n",
    " * Name the TensorFlow placeholder \"x\" using the TensorFlow `name` parameter in the [TF Placeholder](https://www.tensorflow.org/api_docs/python/tf/placeholder).\n",
    "* Implement `neural_net_label_input`\n",
    " * Return a [TF Placeholder](https://www.tensorflow.org/api_docs/python/tf/placeholder)\n",
    " * Set the shape using `n_classes` with batch size set to `None`.\n",
    " * Name the TensorFlow placeholder \"y\" using the TensorFlow `name` parameter in the [TF Placeholder](https://www.tensorflow.org/api_docs/python/tf/placeholder).\n",
    "* Implement `neural_net_keep_prob_input`\n",
    " * Return a [TF Placeholder](https://www.tensorflow.org/api_docs/python/tf/placeholder) for dropout keep probability.\n",
    " * Name the TensorFlow placeholder \"keep_prob\" using the TensorFlow `name` parameter in the [TF Placeholder](https://www.tensorflow.org/api_docs/python/tf/placeholder).\n",
    "\n",
    "These names will be used at the end of the project to load your saved model.\n",
    "\n",
    "Note: `None` for shapes in TensorFlow allow for a dynamic size."
   ]
  },
  {
   "cell_type": "code",
   "execution_count": 7,
   "metadata": {
    "collapsed": false,
    "deletable": true,
    "editable": true
   },
   "outputs": [
    {
     "name": "stdout",
     "output_type": "stream",
     "text": [
      "Image Input Tests Passed.\n",
      "Label Input Tests Passed.\n",
      "Keep Prob Tests Passed.\n"
     ]
    }
   ],
   "source": [
    "import tensorflow as tf\n",
    "\n",
    "def neural_net_image_input(image_shape):\n",
    "    \"\"\"\n",
    "    Return a Tensor for a batch of image input\n",
    "    : image_shape: Shape of the images\n",
    "    : return: Tensor for image input.\n",
    "    \"\"\"\n",
    "    shape = (None,) + image_shape\n",
    "    return tf.placeholder(tf.float32, shape=shape, name=\"x\")\n",
    "\n",
    "\n",
    "def neural_net_label_input(n_classes):\n",
    "    \"\"\"\n",
    "    Return a Tensor for a batch of label input\n",
    "    : n_classes: Number of classes\n",
    "    : return: Tensor for label input.\n",
    "    \"\"\"\n",
    "    return tf.placeholder(tf.float32, shape=(None, n_classes), name=\"y\")\n",
    "\n",
    "\n",
    "def neural_net_keep_prob_input():\n",
    "    \"\"\"\n",
    "    Return a Tensor for keep probability\n",
    "    : return: Tensor for keep probability.\n",
    "    \"\"\"\n",
    "    return tf.placeholder(tf.float32, name=\"keep_prob\")\n",
    "\n",
    "\n",
    "\"\"\"\n",
    "DON'T MODIFY ANYTHING IN THIS CELL THAT IS BELOW THIS LINE\n",
    "\"\"\"\n",
    "tf.reset_default_graph()\n",
    "tests.test_nn_image_inputs(neural_net_image_input)\n",
    "tests.test_nn_label_inputs(neural_net_label_input)\n",
    "tests.test_nn_keep_prob_inputs(neural_net_keep_prob_input)"
   ]
  },
  {
   "cell_type": "markdown",
   "metadata": {
    "deletable": true,
    "editable": true
   },
   "source": [
    "### Convolution and Max Pooling Layer\n",
    "Convolution layers have a lot of success with images. For this code cell, you should implement the function `conv2d_maxpool` to apply convolution then max pooling:\n",
    "* Create the weight and bias using `conv_ksize`, `conv_num_outputs` and the shape of `x_tensor`.\n",
    "* Apply a convolution to `x_tensor` using weight and `conv_strides`.\n",
    " * We recommend you use same padding, but you're welcome to use any padding.\n",
    "* Add bias\n",
    "* Add a nonlinear activation to the convolution.\n",
    "* Apply Max Pooling using `pool_ksize` and `pool_strides`.\n",
    " * We recommend you use same padding, but you're welcome to use any padding.\n",
    "\n",
    "Note: You **can't** use [TensorFlow Layers](https://www.tensorflow.org/api_docs/python/tf/layers) or [TensorFlow Layers (contrib)](https://www.tensorflow.org/api_guides/python/contrib.layers) for this layer.  You're free to use any TensorFlow package for all the other layers."
   ]
  },
  {
   "cell_type": "code",
   "execution_count": 8,
   "metadata": {
    "collapsed": false,
    "deletable": true,
    "editable": true
   },
   "outputs": [
    {
     "name": "stdout",
     "output_type": "stream",
     "text": [
      "Tests Passed\n"
     ]
    }
   ],
   "source": [
    "def conv2d_maxpool(x_tensor, conv_num_outputs, conv_ksize, conv_strides, pool_ksize, pool_strides):\n",
    "    \"\"\"\n",
    "    Apply convolution then max pooling to x_tensor\n",
    "    :param x_tensor: TensorFlow Tensor\n",
    "    :param conv_num_outputs: Number of outputs for the convolutional layer\n",
    "    :param conv_strides: Stride 2-D Tuple for convolution\n",
    "    :param pool_ksize: kernal size 2-D Tuple for pool\n",
    "    :param pool_strides: Stride 2-D Tuple for pool\n",
    "    : return: A tensor that represents convolution and max pooling of x_tensor\n",
    "    \"\"\"\n",
    "    # Create weight and bias\n",
    "    input_chan = x_tensor.get_shape()\n",
    "    input_chan = int(input_chan[3])\n",
    "    W = tf.Variable(tf.truncated_normal((*conv_ksize, input_chan, conv_num_outputs), stddev=0.1))\n",
    "    b = tf.Variable(tf.zeros([conv_num_outputs]))\n",
    "    \n",
    "    # convolution and add bias\n",
    "    x = tf.nn.conv2d(x_tensor, W, strides=(1, *conv_strides, 1), padding='SAME')\n",
    "    x = tf.nn.bias_add(x, b)\n",
    "    \n",
    "    # Activation\n",
    "    x = tf.nn.relu(x)\n",
    "    \n",
    "    # max pooling\n",
    "    x = tf.nn.max_pool(x, ksize=(1, *pool_ksize, 1), strides=(1, *pool_strides, 1), padding='SAME')\n",
    "    \n",
    "    return x\n",
    "\n",
    "\n",
    "\"\"\"\n",
    "DON'T MODIFY ANYTHING IN THIS CELL THAT IS BELOW THIS LINE\n",
    "\"\"\"\n",
    "tests.test_con_pool(conv2d_maxpool)"
   ]
  },
  {
   "cell_type": "markdown",
   "metadata": {
    "deletable": true,
    "editable": true
   },
   "source": [
    "### Flatten Layer\n",
    "Implement the `flatten` function to change the dimension of `x_tensor` from a 4-D tensor to a 2-D tensor.  The output should be the shape (*Batch Size*, *Flattened Image Size*). You can use [TensorFlow Layers](https://www.tensorflow.org/api_docs/python/tf/layers) or [TensorFlow Layers (contrib)](https://www.tensorflow.org/api_guides/python/contrib.layers) for this layer."
   ]
  },
  {
   "cell_type": "code",
   "execution_count": 9,
   "metadata": {
    "collapsed": false,
    "deletable": true,
    "editable": true
   },
   "outputs": [
    {
     "name": "stdout",
     "output_type": "stream",
     "text": [
      "Tests Passed\n"
     ]
    }
   ],
   "source": [
    "def flatten(x_tensor):\n",
    "    \"\"\"\n",
    "    Flatten x_tensor to (Batch Size, Flattened Image Size)\n",
    "    : x_tensor: A tensor of size (Batch Size, ...), where ... are the image dimensions.\n",
    "    : return: A tensor of size (Batch Size, Flattened Image Size).\n",
    "    \"\"\"\n",
    "    return tf.contrib.layers.flatten(x_tensor)\n",
    "\n",
    "\n",
    "\"\"\"\n",
    "DON'T MODIFY ANYTHING IN THIS CELL THAT IS BELOW THIS LINE\n",
    "\"\"\"\n",
    "tests.test_flatten(flatten)"
   ]
  },
  {
   "cell_type": "markdown",
   "metadata": {
    "deletable": true,
    "editable": true
   },
   "source": [
    "### Fully-Connected Layer\n",
    "Implement the `fully_conn` function to apply a fully connected layer to `x_tensor` with the shape (*Batch Size*, *num_outputs*). You can use [TensorFlow Layers](https://www.tensorflow.org/api_docs/python/tf/layers) or [TensorFlow Layers (contrib)](https://www.tensorflow.org/api_guides/python/contrib.layers) for this layer."
   ]
  },
  {
   "cell_type": "code",
   "execution_count": 10,
   "metadata": {
    "collapsed": false,
    "deletable": true,
    "editable": true
   },
   "outputs": [
    {
     "name": "stdout",
     "output_type": "stream",
     "text": [
      "Tests Passed\n"
     ]
    }
   ],
   "source": [
    "def fully_conn(x_tensor, num_outputs):\n",
    "    \"\"\"\n",
    "    Apply a fully connected layer to x_tensor using weight and bias\n",
    "    : x_tensor: A 2-D tensor where the first dimension is batch size.\n",
    "    : num_outputs: The number of output that the new tensor should be.\n",
    "    : return: A 2-D tensor where the second dimension is num_outputs.\n",
    "    \"\"\"\n",
    "    # weights and bias\n",
    "    input_shape = x_tensor.get_shape()\n",
    "    W = tf.Variable(tf.truncated_normal([int(input_shape[1]), num_outputs], stddev=0.1))\n",
    "    b = tf.Variable(tf.zeros([num_outputs]))\n",
    "    \n",
    "    # fully connected layer\n",
    "    x = tf.add(tf.matmul(x_tensor, W), b)\n",
    "    x = tf.nn.relu(x)\n",
    "    return x\n",
    "\n",
    "\n",
    "\"\"\"\n",
    "DON'T MODIFY ANYTHING IN THIS CELL THAT IS BELOW THIS LINE\n",
    "\"\"\"\n",
    "tests.test_fully_conn(fully_conn)"
   ]
  },
  {
   "cell_type": "markdown",
   "metadata": {
    "deletable": true,
    "editable": true
   },
   "source": [
    "### Output Layer\n",
    "Implement the `output` function to apply a fully connected layer to `x_tensor` with the shape (*Batch Size*, *num_outputs*). You can use [TensorFlow Layers](https://www.tensorflow.org/api_docs/python/tf/layers) or [TensorFlow Layers (contrib)](https://www.tensorflow.org/api_guides/python/contrib.layers) for this layer.\n",
    "\n",
    "Note: Activation, softmax, or cross entropy shouldn't be applied to this."
   ]
  },
  {
   "cell_type": "code",
   "execution_count": 11,
   "metadata": {
    "collapsed": false,
    "deletable": true,
    "editable": true
   },
   "outputs": [
    {
     "name": "stdout",
     "output_type": "stream",
     "text": [
      "Tests Passed\n"
     ]
    }
   ],
   "source": [
    "def output(x_tensor, num_outputs):\n",
    "    \"\"\"\n",
    "    Apply a output layer to x_tensor using weight and bias\n",
    "    : x_tensor: A 2-D tensor where the first dimension is batch size.\n",
    "    : num_outputs: The number of output that the new tensor should be.\n",
    "    : return: A 2-D tensor where the second dimension is num_outputs.\n",
    "    \"\"\"\n",
    "    # weights and bias\n",
    "    input_shape = x_tensor.get_shape()\n",
    "    W = tf.Variable(tf.truncated_normal([int(input_shape[1]), num_outputs]))\n",
    "    b = tf.Variable(tf.zeros([num_outputs]))\n",
    "    \n",
    "    # fully connected layer\n",
    "    x = tf.add(tf.matmul(x_tensor, W), b)\n",
    "    return x\n",
    "\n",
    "\n",
    "\"\"\"\n",
    "DON'T MODIFY ANYTHING IN THIS CELL THAT IS BELOW THIS LINE\n",
    "\"\"\"\n",
    "tests.test_output(output)"
   ]
  },
  {
   "cell_type": "markdown",
   "metadata": {
    "deletable": true,
    "editable": true
   },
   "source": [
    "### Create Convolutional Model\n",
    "Implement the function `conv_net` to create a convolutional neural network model. The function takes in a batch of images, `x`, and outputs logits.  Use the layers you created above to create this model:\n",
    "\n",
    "* Apply 1, 2, or 3 Convolution and Max Pool layers\n",
    "* Apply a Flatten Layer\n",
    "* Apply 1, 2, or 3 Fully Connected Layers\n",
    "* Apply an Output Layer\n",
    "* Return the output\n",
    "* Apply [TensorFlow's Dropout](https://www.tensorflow.org/api_docs/python/tf/nn/dropout) to one or more layers in the model using `keep_prob`. "
   ]
  },
  {
   "cell_type": "code",
   "execution_count": 12,
   "metadata": {
    "collapsed": false,
    "deletable": true,
    "editable": true
   },
   "outputs": [
    {
     "name": "stdout",
     "output_type": "stream",
     "text": [
      "Neural Network Built!\n"
     ]
    }
   ],
   "source": [
    "def conv_net(x, keep_prob):\n",
    "    \"\"\"\n",
    "    Create a convolutional neural network model\n",
    "    : x: Placeholder tensor that holds image data.\n",
    "    : keep_prob: Placeholder tensor that hold dropout keep probability.\n",
    "    : return: Tensor that represents logits\n",
    "    \"\"\"\n",
    "    # TODO: Apply 1, 2, or 3 Convolution and Max Pool layers\n",
    "    #    Play around with different number of outputs, kernel size and stride\n",
    "    # Function Definition from Above:\n",
    "    #    conv2d_maxpool(x_tensor, conv_num_outputs, conv_ksize, conv_strides, pool_ksize, pool_strides)\n",
    "    conv1 = conv2d_maxpool(x, 16, (5,5), (1,1), (2,2), (2,2))\n",
    "    conv1 = tf.nn.dropout(conv1, keep_prob=keep_prob)\n",
    "    \n",
    "    # TODO: Apply a Flatten Layer\n",
    "    # Function Definition from Above:\n",
    "    #   flatten(x_tensor)\n",
    "    flat = flatten(conv1)\n",
    "\n",
    "    # TODO: Apply 1, 2, or 3 Fully Connected Layers\n",
    "    #    Play around with different number of outputs\n",
    "    # Function Definition from Above:\n",
    "    #   fully_conn(x_tensor, num_outputs)\n",
    "    fc1 = fully_conn(flat, 100)\n",
    "    fc1 = tf.nn.dropout(fc1, keep_prob=keep_prob)\n",
    "    \n",
    "    \n",
    "    # TODO: Apply an Output Layer\n",
    "    #    Set this to the number of classes\n",
    "    # Function Definition from Above:\n",
    "    #   output(x_tensor, num_outputs)\n",
    "    out = output(fc1, 10)\n",
    "    \n",
    "    # TODO: return output\n",
    "    return out\n",
    "\n",
    "\n",
    "\"\"\"\n",
    "DON'T MODIFY ANYTHING IN THIS CELL THAT IS BELOW THIS LINE\n",
    "\"\"\"\n",
    "\n",
    "##############################\n",
    "## Build the Neural Network ##\n",
    "##############################\n",
    "\n",
    "# Remove previous weights, bias, inputs, etc..\n",
    "tf.reset_default_graph()\n",
    "\n",
    "# Inputs\n",
    "x = neural_net_image_input((32, 32, 3))\n",
    "y = neural_net_label_input(10)\n",
    "keep_prob = neural_net_keep_prob_input()\n",
    "\n",
    "# Model\n",
    "logits = conv_net(x, keep_prob)\n",
    "\n",
    "# Name logits Tensor, so that is can be loaded from disk after training\n",
    "logits = tf.identity(logits, name='logits')\n",
    "\n",
    "# Loss and Optimizer\n",
    "cost = tf.reduce_mean(tf.nn.softmax_cross_entropy_with_logits(logits=logits, labels=y))\n",
    "optimizer = tf.train.AdamOptimizer().minimize(cost)\n",
    "\n",
    "# Accuracy\n",
    "correct_pred = tf.equal(tf.argmax(logits, 1), tf.argmax(y, 1))\n",
    "accuracy = tf.reduce_mean(tf.cast(correct_pred, tf.float32), name='accuracy')\n",
    "\n",
    "tests.test_conv_net(conv_net)"
   ]
  },
  {
   "cell_type": "markdown",
   "metadata": {
    "deletable": true,
    "editable": true
   },
   "source": [
    "## Train the Neural Network\n",
    "### Single Optimization\n",
    "Implement the function `train_neural_network` to do a single optimization.  The optimization should use `optimizer` to optimize in `session` with a `feed_dict` of the following:\n",
    "* `x` for image input\n",
    "* `y` for labels\n",
    "* `keep_prob` for keep probability for dropout\n",
    "\n",
    "This function will be called for each batch, so `tf.global_variables_initializer()` has already been called.\n",
    "\n",
    "Note: Nothing needs to be returned. This function is only optimizing the neural network."
   ]
  },
  {
   "cell_type": "code",
   "execution_count": 13,
   "metadata": {
    "collapsed": false,
    "deletable": true,
    "editable": true
   },
   "outputs": [
    {
     "name": "stdout",
     "output_type": "stream",
     "text": [
      "Tests Passed\n"
     ]
    }
   ],
   "source": [
    "def train_neural_network(session, optimizer, keep_probability, feature_batch, label_batch):\n",
    "    \"\"\"\n",
    "    Optimize the session on a batch of images and labels\n",
    "    : session: Current TensorFlow session\n",
    "    : optimizer: TensorFlow optimizer function\n",
    "    : keep_probability: keep probability\n",
    "    : feature_batch: Batch of Numpy image data\n",
    "    : label_batch: Batch of Numpy label data\n",
    "    \"\"\"\n",
    "    session.run(optimizer, feed_dict={x: feature_batch, y: label_batch, keep_prob: keep_probability})\n",
    "\n",
    "\n",
    "\"\"\"\n",
    "DON'T MODIFY ANYTHING IN THIS CELL THAT IS BELOW THIS LINE\n",
    "\"\"\"\n",
    "tests.test_train_nn(train_neural_network)"
   ]
  },
  {
   "cell_type": "markdown",
   "metadata": {
    "deletable": true,
    "editable": true
   },
   "source": [
    "### Show Stats\n",
    "Implement the function `print_stats` to print loss and validation accuracy.  Use the global variables `valid_features` and `valid_labels` to calculate validation accuracy.  Use a keep probability of `1.0` to calculate the loss and validation accuracy."
   ]
  },
  {
   "cell_type": "code",
   "execution_count": 14,
   "metadata": {
    "collapsed": false,
    "deletable": true,
    "editable": true
   },
   "outputs": [],
   "source": [
    "def print_stats(session, feature_batch, label_batch, cost, accuracy):\n",
    "    \"\"\"\n",
    "    Print information about loss and validation accuracy\n",
    "    : session: Current TensorFlow session\n",
    "    : feature_batch: Batch of Numpy image data\n",
    "    : label_batch: Batch of Numpy label data\n",
    "    : cost: TensorFlow cost function\n",
    "    : accuracy: TensorFlow accuracy function\n",
    "    \"\"\"\n",
    "    global valid_features\n",
    "    global valid_labels\n",
    "    \n",
    "    c,a = session.run((cost, accuracy), feed_dict={x: valid_features, y: valid_labels, keep_prob: 1.})\n",
    "    print('Validation cost: {}, Validation accuracy: {:5.2f}%'.format(c,a*100))"
   ]
  },
  {
   "cell_type": "markdown",
   "metadata": {
    "deletable": true,
    "editable": true
   },
   "source": [
    "### Hyperparameters\n",
    "Tune the following parameters:\n",
    "* Set `epochs` to the number of iterations until the network stops learning or start overfitting\n",
    "* Set `batch_size` to the highest number that your machine has memory for.  Most people set them to common sizes of memory:\n",
    " * 64\n",
    " * 128\n",
    " * 256\n",
    " * ...\n",
    "* Set `keep_probability` to the probability of keeping a node using dropout"
   ]
  },
  {
   "cell_type": "code",
   "execution_count": 15,
   "metadata": {
    "collapsed": true,
    "deletable": true,
    "editable": true
   },
   "outputs": [],
   "source": [
    "# TODO: Tune Parameters\n",
    "epochs = 35\n",
    "batch_size = 256\n",
    "keep_probability = .5"
   ]
  },
  {
   "cell_type": "markdown",
   "metadata": {
    "deletable": true,
    "editable": true
   },
   "source": [
    "### Train on a Single CIFAR-10 Batch\n",
    "Instead of training the neural network on all the CIFAR-10 batches of data, let's use a single batch. This should save time while you iterate on the model to get a better accuracy.  Once the final validation accuracy is 50% or greater, run the model on all the data in the next section."
   ]
  },
  {
   "cell_type": "code",
   "execution_count": 16,
   "metadata": {
    "collapsed": false,
    "deletable": true,
    "editable": true,
    "scrolled": true
   },
   "outputs": [
    {
     "name": "stdout",
     "output_type": "stream",
     "text": [
      "Checking the Training on a Single Batch...\n",
      "Epoch  1, CIFAR-10 Batch 1:  Validation cost: 2.3019680976867676, Validation accuracy:  9.70%\n",
      "Epoch  2, CIFAR-10 Batch 1:  Validation cost: 2.2982006072998047, Validation accuracy: 10.90%\n",
      "Epoch  3, CIFAR-10 Batch 1:  Validation cost: 2.2522640228271484, Validation accuracy: 18.10%\n",
      "Epoch  4, CIFAR-10 Batch 1:  Validation cost: 2.174968719482422, Validation accuracy: 19.90%\n",
      "Epoch  5, CIFAR-10 Batch 1:  Validation cost: 2.150803804397583, Validation accuracy: 22.14%\n",
      "Epoch  6, CIFAR-10 Batch 1:  Validation cost: 2.1347830295562744, Validation accuracy: 21.78%\n",
      "Epoch  7, CIFAR-10 Batch 1:  Validation cost: 2.1330318450927734, Validation accuracy: 24.92%\n",
      "Epoch  8, CIFAR-10 Batch 1:  Validation cost: 2.104936361312866, Validation accuracy: 25.56%\n",
      "Epoch  9, CIFAR-10 Batch 1:  Validation cost: 2.0673537254333496, Validation accuracy: 26.94%\n",
      "Epoch 10, CIFAR-10 Batch 1:  Validation cost: 2.0370101928710938, Validation accuracy: 27.78%\n",
      "Epoch 11, CIFAR-10 Batch 1:  Validation cost: 2.020934820175171, Validation accuracy: 27.42%\n",
      "Epoch 12, CIFAR-10 Batch 1:  Validation cost: 2.006774663925171, Validation accuracy: 28.78%\n",
      "Epoch 13, CIFAR-10 Batch 1:  Validation cost: 1.9616895914077759, Validation accuracy: 29.62%\n",
      "Epoch 14, CIFAR-10 Batch 1:  Validation cost: 1.9549081325531006, Validation accuracy: 30.88%\n",
      "Epoch 15, CIFAR-10 Batch 1:  Validation cost: 1.9210305213928223, Validation accuracy: 31.32%\n",
      "Epoch 16, CIFAR-10 Batch 1:  Validation cost: 1.8900433778762817, Validation accuracy: 32.08%\n",
      "Epoch 17, CIFAR-10 Batch 1:  Validation cost: 1.8855663537979126, Validation accuracy: 31.20%\n",
      "Epoch 18, CIFAR-10 Batch 1:  Validation cost: 1.8549714088439941, Validation accuracy: 34.50%\n",
      "Epoch 19, CIFAR-10 Batch 1:  Validation cost: 1.7907559871673584, Validation accuracy: 36.60%\n",
      "Epoch 20, CIFAR-10 Batch 1:  Validation cost: 1.7788236141204834, Validation accuracy: 36.16%\n",
      "Epoch 21, CIFAR-10 Batch 1:  Validation cost: 1.7613133192062378, Validation accuracy: 38.70%\n",
      "Epoch 22, CIFAR-10 Batch 1:  Validation cost: 1.7346363067626953, Validation accuracy: 39.48%\n",
      "Epoch 23, CIFAR-10 Batch 1:  Validation cost: 1.7195324897766113, Validation accuracy: 39.94%\n",
      "Epoch 24, CIFAR-10 Batch 1:  Validation cost: 1.6681463718414307, Validation accuracy: 41.42%\n",
      "Epoch 25, CIFAR-10 Batch 1:  Validation cost: 1.6581302881240845, Validation accuracy: 41.18%\n",
      "Epoch 26, CIFAR-10 Batch 1:  Validation cost: 1.64205801486969, Validation accuracy: 42.26%\n",
      "Epoch 27, CIFAR-10 Batch 1:  Validation cost: 1.6115660667419434, Validation accuracy: 43.90%\n",
      "Epoch 28, CIFAR-10 Batch 1:  Validation cost: 1.62333345413208, Validation accuracy: 42.48%\n",
      "Epoch 29, CIFAR-10 Batch 1:  Validation cost: 1.5998502969741821, Validation accuracy: 43.58%\n",
      "Epoch 30, CIFAR-10 Batch 1:  Validation cost: 1.5924166440963745, Validation accuracy: 44.28%\n",
      "Epoch 31, CIFAR-10 Batch 1:  Validation cost: 1.5594701766967773, Validation accuracy: 45.60%\n",
      "Epoch 32, CIFAR-10 Batch 1:  Validation cost: 1.5357259511947632, Validation accuracy: 46.80%\n",
      "Epoch 33, CIFAR-10 Batch 1:  Validation cost: 1.561293125152588, Validation accuracy: 46.00%\n",
      "Epoch 34, CIFAR-10 Batch 1:  Validation cost: 1.5300498008728027, Validation accuracy: 47.04%\n",
      "Epoch 35, CIFAR-10 Batch 1:  Validation cost: 1.5283763408660889, Validation accuracy: 46.24%\n"
     ]
    }
   ],
   "source": [
    "\"\"\"\n",
    "DON'T MODIFY ANYTHING IN THIS CELL\n",
    "\"\"\"\n",
    "print('Checking the Training on a Single Batch...')\n",
    "with tf.Session() as sess:\n",
    "    # Initializing the variables\n",
    "    sess.run(tf.global_variables_initializer())\n",
    "    \n",
    "    # Training cycle\n",
    "    for epoch in range(epochs):\n",
    "        batch_i = 1\n",
    "        for batch_features, batch_labels in helper.load_preprocess_training_batch(batch_i, batch_size):\n",
    "            train_neural_network(sess, optimizer, keep_probability, batch_features, batch_labels)\n",
    "        print('Epoch {:>2}, CIFAR-10 Batch {}:  '.format(epoch + 1, batch_i), end='')\n",
    "        print_stats(sess, batch_features, batch_labels, cost, accuracy)"
   ]
  },
  {
   "cell_type": "markdown",
   "metadata": {
    "deletable": true,
    "editable": true
   },
   "source": [
    "### Fully Train the Model\n",
    "Now that you got a good accuracy with a single CIFAR-10 batch, try it with all five batches."
   ]
  },
  {
   "cell_type": "code",
   "execution_count": 17,
   "metadata": {
    "collapsed": false,
    "deletable": true,
    "editable": true,
    "scrolled": true
   },
   "outputs": [
    {
     "name": "stdout",
     "output_type": "stream",
     "text": [
      "Training...\n",
      "Epoch  1, CIFAR-10 Batch 1:  Validation cost: 2.302286386489868, Validation accuracy: 11.02%\n",
      "Epoch  1, CIFAR-10 Batch 2:  Validation cost: 2.3021881580352783, Validation accuracy: 10.86%\n",
      "Epoch  1, CIFAR-10 Batch 3:  Validation cost: 2.3017635345458984, Validation accuracy: 10.76%\n",
      "Epoch  1, CIFAR-10 Batch 4:  Validation cost: 2.3010716438293457, Validation accuracy: 11.40%\n",
      "Epoch  1, CIFAR-10 Batch 5:  Validation cost: 2.294306516647339, Validation accuracy: 13.70%\n",
      "Epoch  2, CIFAR-10 Batch 1:  Validation cost: 2.2149102687835693, Validation accuracy: 20.12%\n",
      "Epoch  2, CIFAR-10 Batch 2:  Validation cost: 2.1781716346740723, Validation accuracy: 22.84%\n",
      "Epoch  2, CIFAR-10 Batch 3:  Validation cost: 2.1302006244659424, Validation accuracy: 24.60%\n",
      "Epoch  2, CIFAR-10 Batch 4:  Validation cost: 2.077180862426758, Validation accuracy: 25.58%\n",
      "Epoch  2, CIFAR-10 Batch 5:  Validation cost: 1.9920945167541504, Validation accuracy: 28.44%\n",
      "Epoch  3, CIFAR-10 Batch 1:  Validation cost: 1.9610792398452759, Validation accuracy: 31.84%\n",
      "Epoch  3, CIFAR-10 Batch 2:  Validation cost: 1.9109951257705688, Validation accuracy: 33.10%\n",
      "Epoch  3, CIFAR-10 Batch 3:  Validation cost: 1.8374404907226562, Validation accuracy: 35.38%\n",
      "Epoch  3, CIFAR-10 Batch 4:  Validation cost: 1.846086859703064, Validation accuracy: 37.18%\n",
      "Epoch  3, CIFAR-10 Batch 5:  Validation cost: 1.760965347290039, Validation accuracy: 38.84%\n",
      "Epoch  4, CIFAR-10 Batch 1:  Validation cost: 1.7673803567886353, Validation accuracy: 39.10%\n",
      "Epoch  4, CIFAR-10 Batch 2:  Validation cost: 1.7241830825805664, Validation accuracy: 39.70%\n",
      "Epoch  4, CIFAR-10 Batch 3:  Validation cost: 1.687477707862854, Validation accuracy: 39.58%\n",
      "Epoch  4, CIFAR-10 Batch 4:  Validation cost: 1.6737596988677979, Validation accuracy: 41.44%\n",
      "Epoch  4, CIFAR-10 Batch 5:  Validation cost: 1.635613203048706, Validation accuracy: 41.64%\n",
      "Epoch  5, CIFAR-10 Batch 1:  Validation cost: 1.625196933746338, Validation accuracy: 43.06%\n",
      "Epoch  5, CIFAR-10 Batch 2:  Validation cost: 1.6480752229690552, Validation accuracy: 42.14%\n",
      "Epoch  5, CIFAR-10 Batch 3:  Validation cost: 1.5750069618225098, Validation accuracy: 44.74%\n",
      "Epoch  5, CIFAR-10 Batch 4:  Validation cost: 1.5478085279464722, Validation accuracy: 45.12%\n",
      "Epoch  5, CIFAR-10 Batch 5:  Validation cost: 1.5872079133987427, Validation accuracy: 44.50%\n",
      "Epoch  6, CIFAR-10 Batch 1:  Validation cost: 1.5485291481018066, Validation accuracy: 45.90%\n",
      "Epoch  6, CIFAR-10 Batch 2:  Validation cost: 1.532745122909546, Validation accuracy: 46.16%\n",
      "Epoch  6, CIFAR-10 Batch 3:  Validation cost: 1.5281078815460205, Validation accuracy: 46.50%\n",
      "Epoch  6, CIFAR-10 Batch 4:  Validation cost: 1.500754475593567, Validation accuracy: 46.98%\n",
      "Epoch  6, CIFAR-10 Batch 5:  Validation cost: 1.493172526359558, Validation accuracy: 47.30%\n",
      "Epoch  7, CIFAR-10 Batch 1:  Validation cost: 1.4760513305664062, Validation accuracy: 48.32%\n",
      "Epoch  7, CIFAR-10 Batch 2:  Validation cost: 1.5091050863265991, Validation accuracy: 47.64%\n",
      "Epoch  7, CIFAR-10 Batch 3:  Validation cost: 1.481438398361206, Validation accuracy: 47.72%\n",
      "Epoch  7, CIFAR-10 Batch 4:  Validation cost: 1.436448574066162, Validation accuracy: 49.52%\n",
      "Epoch  7, CIFAR-10 Batch 5:  Validation cost: 1.4336849451065063, Validation accuracy: 49.26%\n",
      "Epoch  8, CIFAR-10 Batch 1:  Validation cost: 1.4418318271636963, Validation accuracy: 50.28%\n",
      "Epoch  8, CIFAR-10 Batch 2:  Validation cost: 1.4451255798339844, Validation accuracy: 49.86%\n",
      "Epoch  8, CIFAR-10 Batch 3:  Validation cost: 1.4031935930252075, Validation accuracy: 49.72%\n",
      "Epoch  8, CIFAR-10 Batch 4:  Validation cost: 1.415714144706726, Validation accuracy: 50.48%\n",
      "Epoch  8, CIFAR-10 Batch 5:  Validation cost: 1.403508186340332, Validation accuracy: 50.00%\n",
      "Epoch  9, CIFAR-10 Batch 1:  Validation cost: 1.3987820148468018, Validation accuracy: 51.08%\n",
      "Epoch  9, CIFAR-10 Batch 2:  Validation cost: 1.424119234085083, Validation accuracy: 49.80%\n",
      "Epoch  9, CIFAR-10 Batch 3:  Validation cost: 1.3973853588104248, Validation accuracy: 50.48%\n",
      "Epoch  9, CIFAR-10 Batch 4:  Validation cost: 1.3581035137176514, Validation accuracy: 52.06%\n",
      "Epoch  9, CIFAR-10 Batch 5:  Validation cost: 1.3589658737182617, Validation accuracy: 52.20%\n",
      "Epoch 10, CIFAR-10 Batch 1:  Validation cost: 1.382798671722412, Validation accuracy: 51.84%\n",
      "Epoch 10, CIFAR-10 Batch 2:  Validation cost: 1.3539479970932007, Validation accuracy: 52.16%\n",
      "Epoch 10, CIFAR-10 Batch 3:  Validation cost: 1.3450524806976318, Validation accuracy: 52.44%\n",
      "Epoch 10, CIFAR-10 Batch 4:  Validation cost: 1.3655767440795898, Validation accuracy: 52.12%\n",
      "Epoch 10, CIFAR-10 Batch 5:  Validation cost: 1.3424715995788574, Validation accuracy: 52.40%\n",
      "Epoch 11, CIFAR-10 Batch 1:  Validation cost: 1.3415688276290894, Validation accuracy: 53.12%\n",
      "Epoch 11, CIFAR-10 Batch 2:  Validation cost: 1.3511770963668823, Validation accuracy: 52.44%\n",
      "Epoch 11, CIFAR-10 Batch 3:  Validation cost: 1.334648847579956, Validation accuracy: 53.62%\n",
      "Epoch 11, CIFAR-10 Batch 4:  Validation cost: 1.3131691217422485, Validation accuracy: 53.48%\n",
      "Epoch 11, CIFAR-10 Batch 5:  Validation cost: 1.3099583387374878, Validation accuracy: 53.70%\n",
      "Epoch 12, CIFAR-10 Batch 1:  Validation cost: 1.3357335329055786, Validation accuracy: 53.52%\n",
      "Epoch 12, CIFAR-10 Batch 2:  Validation cost: 1.3046576976776123, Validation accuracy: 54.38%\n",
      "Epoch 12, CIFAR-10 Batch 3:  Validation cost: 1.293225884437561, Validation accuracy: 54.54%\n",
      "Epoch 12, CIFAR-10 Batch 4:  Validation cost: 1.3253661394119263, Validation accuracy: 53.12%\n",
      "Epoch 12, CIFAR-10 Batch 5:  Validation cost: 1.303865909576416, Validation accuracy: 54.34%\n",
      "Epoch 13, CIFAR-10 Batch 1:  Validation cost: 1.2865008115768433, Validation accuracy: 55.00%\n",
      "Epoch 13, CIFAR-10 Batch 2:  Validation cost: 1.3026849031448364, Validation accuracy: 55.06%\n",
      "Epoch 13, CIFAR-10 Batch 3:  Validation cost: 1.2930853366851807, Validation accuracy: 54.48%\n",
      "Epoch 13, CIFAR-10 Batch 4:  Validation cost: 1.2967885732650757, Validation accuracy: 54.68%\n",
      "Epoch 13, CIFAR-10 Batch 5:  Validation cost: 1.2716033458709717, Validation accuracy: 55.44%\n",
      "Epoch 14, CIFAR-10 Batch 1:  Validation cost: 1.2790464162826538, Validation accuracy: 55.10%\n",
      "Epoch 14, CIFAR-10 Batch 2:  Validation cost: 1.2760956287384033, Validation accuracy: 55.48%\n",
      "Epoch 14, CIFAR-10 Batch 3:  Validation cost: 1.314327359199524, Validation accuracy: 54.66%\n",
      "Epoch 14, CIFAR-10 Batch 4:  Validation cost: 1.2545619010925293, Validation accuracy: 55.96%\n",
      "Epoch 14, CIFAR-10 Batch 5:  Validation cost: 1.2597627639770508, Validation accuracy: 55.44%\n",
      "Epoch 15, CIFAR-10 Batch 1:  Validation cost: 1.2823431491851807, Validation accuracy: 55.12%\n",
      "Epoch 15, CIFAR-10 Batch 2:  Validation cost: 1.256425142288208, Validation accuracy: 56.06%\n",
      "Epoch 15, CIFAR-10 Batch 3:  Validation cost: 1.247816562652588, Validation accuracy: 55.82%\n",
      "Epoch 15, CIFAR-10 Batch 4:  Validation cost: 1.2531826496124268, Validation accuracy: 56.44%\n",
      "Epoch 15, CIFAR-10 Batch 5:  Validation cost: 1.2404277324676514, Validation accuracy: 55.94%\n",
      "Epoch 16, CIFAR-10 Batch 1:  Validation cost: 1.2241475582122803, Validation accuracy: 57.44%\n",
      "Epoch 16, CIFAR-10 Batch 2:  Validation cost: 1.2587168216705322, Validation accuracy: 55.68%\n",
      "Epoch 16, CIFAR-10 Batch 3:  Validation cost: 1.238187313079834, Validation accuracy: 57.02%\n",
      "Epoch 16, CIFAR-10 Batch 4:  Validation cost: 1.2281339168548584, Validation accuracy: 56.86%\n",
      "Epoch 16, CIFAR-10 Batch 5:  Validation cost: 1.2373594045639038, Validation accuracy: 56.38%\n",
      "Epoch 17, CIFAR-10 Batch 1:  Validation cost: 1.2268098592758179, Validation accuracy: 57.14%\n",
      "Epoch 17, CIFAR-10 Batch 2:  Validation cost: 1.2243733406066895, Validation accuracy: 57.18%\n",
      "Epoch 17, CIFAR-10 Batch 3:  Validation cost: 1.2380003929138184, Validation accuracy: 56.40%\n",
      "Epoch 17, CIFAR-10 Batch 4:  Validation cost: 1.2170394659042358, Validation accuracy: 56.64%\n",
      "Epoch 17, CIFAR-10 Batch 5:  Validation cost: 1.211302399635315, Validation accuracy: 57.38%\n",
      "Epoch 18, CIFAR-10 Batch 1:  Validation cost: 1.2040048837661743, Validation accuracy: 58.40%\n",
      "Epoch 18, CIFAR-10 Batch 2:  Validation cost: 1.216863751411438, Validation accuracy: 57.38%\n",
      "Epoch 18, CIFAR-10 Batch 3:  Validation cost: 1.1971211433410645, Validation accuracy: 58.02%\n",
      "Epoch 18, CIFAR-10 Batch 4:  Validation cost: 1.2147176265716553, Validation accuracy: 57.26%\n",
      "Epoch 18, CIFAR-10 Batch 5:  Validation cost: 1.212423324584961, Validation accuracy: 56.52%\n",
      "Epoch 19, CIFAR-10 Batch 1:  Validation cost: 1.2049877643585205, Validation accuracy: 58.22%\n",
      "Epoch 19, CIFAR-10 Batch 2:  Validation cost: 1.2153513431549072, Validation accuracy: 57.92%\n",
      "Epoch 19, CIFAR-10 Batch 3:  Validation cost: 1.1936196088790894, Validation accuracy: 57.60%\n",
      "Epoch 19, CIFAR-10 Batch 4:  Validation cost: 1.2200229167938232, Validation accuracy: 56.34%\n",
      "Epoch 19, CIFAR-10 Batch 5:  Validation cost: 1.2035983800888062, Validation accuracy: 57.60%\n",
      "Epoch 20, CIFAR-10 Batch 1:  Validation cost: 1.187113881111145, Validation accuracy: 58.44%\n",
      "Epoch 20, CIFAR-10 Batch 2:  Validation cost: 1.191156029701233, Validation accuracy: 58.42%\n",
      "Epoch 20, CIFAR-10 Batch 3:  Validation cost: 1.1757906675338745, Validation accuracy: 58.84%\n",
      "Epoch 20, CIFAR-10 Batch 4:  Validation cost: 1.1716784238815308, Validation accuracy: 58.90%\n",
      "Epoch 20, CIFAR-10 Batch 5:  Validation cost: 1.1769061088562012, Validation accuracy: 58.14%\n",
      "Epoch 21, CIFAR-10 Batch 1:  Validation cost: 1.1868817806243896, Validation accuracy: 59.10%\n",
      "Epoch 21, CIFAR-10 Batch 2:  Validation cost: 1.1826651096343994, Validation accuracy: 58.86%\n",
      "Epoch 21, CIFAR-10 Batch 3:  Validation cost: 1.1762568950653076, Validation accuracy: 58.60%\n",
      "Epoch 21, CIFAR-10 Batch 4:  Validation cost: 1.1797270774841309, Validation accuracy: 58.14%\n",
      "Epoch 21, CIFAR-10 Batch 5:  Validation cost: 1.1750483512878418, Validation accuracy: 58.32%\n",
      "Epoch 22, CIFAR-10 Batch 1:  Validation cost: 1.1964008808135986, Validation accuracy: 58.34%\n",
      "Epoch 22, CIFAR-10 Batch 2:  Validation cost: 1.184678554534912, Validation accuracy: 58.18%\n",
      "Epoch 22, CIFAR-10 Batch 3:  Validation cost: 1.17904531955719, Validation accuracy: 57.70%\n",
      "Epoch 22, CIFAR-10 Batch 4:  Validation cost: 1.1678078174591064, Validation accuracy: 59.52%\n",
      "Epoch 22, CIFAR-10 Batch 5:  Validation cost: 1.1665611267089844, Validation accuracy: 59.02%\n",
      "Epoch 23, CIFAR-10 Batch 1:  Validation cost: 1.1731983423233032, Validation accuracy: 59.24%\n",
      "Epoch 23, CIFAR-10 Batch 2:  Validation cost: 1.1630589962005615, Validation accuracy: 59.76%\n",
      "Epoch 23, CIFAR-10 Batch 3:  Validation cost: 1.1499595642089844, Validation accuracy: 59.12%\n",
      "Epoch 23, CIFAR-10 Batch 4:  Validation cost: 1.1558115482330322, Validation accuracy: 60.14%\n",
      "Epoch 23, CIFAR-10 Batch 5:  Validation cost: 1.165926456451416, Validation accuracy: 59.30%\n",
      "Epoch 24, CIFAR-10 Batch 1:  Validation cost: 1.1730220317840576, Validation accuracy: 59.42%\n",
      "Epoch 24, CIFAR-10 Batch 2:  Validation cost: 1.159159779548645, Validation accuracy: 58.82%\n",
      "Epoch 24, CIFAR-10 Batch 3:  Validation cost: 1.1661498546600342, Validation accuracy: 58.34%\n",
      "Epoch 24, CIFAR-10 Batch 4:  Validation cost: 1.1489183902740479, Validation accuracy: 59.76%\n",
      "Epoch 24, CIFAR-10 Batch 5:  Validation cost: 1.1906843185424805, Validation accuracy: 57.08%\n",
      "Epoch 25, CIFAR-10 Batch 1:  Validation cost: 1.1679877042770386, Validation accuracy: 59.52%\n",
      "Epoch 25, CIFAR-10 Batch 2:  Validation cost: 1.154822587966919, Validation accuracy: 59.90%\n",
      "Epoch 25, CIFAR-10 Batch 3:  Validation cost: 1.1634758710861206, Validation accuracy: 59.00%\n",
      "Epoch 25, CIFAR-10 Batch 4:  Validation cost: 1.154799461364746, Validation accuracy: 58.86%\n",
      "Epoch 25, CIFAR-10 Batch 5:  Validation cost: 1.138068675994873, Validation accuracy: 60.02%\n",
      "Epoch 26, CIFAR-10 Batch 1:  Validation cost: 1.1514687538146973, Validation accuracy: 60.68%\n",
      "Epoch 26, CIFAR-10 Batch 2:  Validation cost: 1.1288641691207886, Validation accuracy: 60.38%\n",
      "Epoch 26, CIFAR-10 Batch 3:  Validation cost: 1.131010890007019, Validation accuracy: 60.80%\n",
      "Epoch 26, CIFAR-10 Batch 4:  Validation cost: 1.1354032754898071, Validation accuracy: 59.90%\n",
      "Epoch 26, CIFAR-10 Batch 5:  Validation cost: 1.1456561088562012, Validation accuracy: 60.14%\n",
      "Epoch 27, CIFAR-10 Batch 1:  Validation cost: 1.1356970071792603, Validation accuracy: 60.98%\n",
      "Epoch 27, CIFAR-10 Batch 2:  Validation cost: 1.1338539123535156, Validation accuracy: 60.96%\n",
      "Epoch 27, CIFAR-10 Batch 3:  Validation cost: 1.1260812282562256, Validation accuracy: 61.32%\n",
      "Epoch 27, CIFAR-10 Batch 4:  Validation cost: 1.1092807054519653, Validation accuracy: 61.02%\n",
      "Epoch 27, CIFAR-10 Batch 5:  Validation cost: 1.1171064376831055, Validation accuracy: 60.80%\n",
      "Epoch 28, CIFAR-10 Batch 1:  Validation cost: 1.1349834203720093, Validation accuracy: 59.86%\n",
      "Epoch 28, CIFAR-10 Batch 2:  Validation cost: 1.13406240940094, Validation accuracy: 60.66%\n",
      "Epoch 28, CIFAR-10 Batch 3:  Validation cost: 1.1082789897918701, Validation accuracy: 61.22%\n",
      "Epoch 28, CIFAR-10 Batch 4:  Validation cost: 1.1558825969696045, Validation accuracy: 59.28%\n",
      "Epoch 28, CIFAR-10 Batch 5:  Validation cost: 1.1153943538665771, Validation accuracy: 61.14%\n",
      "Epoch 29, CIFAR-10 Batch 1:  Validation cost: 1.1561901569366455, Validation accuracy: 59.80%\n",
      "Epoch 29, CIFAR-10 Batch 2:  Validation cost: 1.134042739868164, Validation accuracy: 60.04%\n",
      "Epoch 29, CIFAR-10 Batch 3:  Validation cost: 1.107783317565918, Validation accuracy: 61.62%\n",
      "Epoch 29, CIFAR-10 Batch 4:  Validation cost: 1.1200495958328247, Validation accuracy: 60.86%\n",
      "Epoch 29, CIFAR-10 Batch 5:  Validation cost: 1.1276144981384277, Validation accuracy: 60.04%\n",
      "Epoch 30, CIFAR-10 Batch 1:  Validation cost: 1.111124038696289, Validation accuracy: 60.92%\n",
      "Epoch 30, CIFAR-10 Batch 2:  Validation cost: 1.125899314880371, Validation accuracy: 60.90%\n",
      "Epoch 30, CIFAR-10 Batch 3:  Validation cost: 1.1064410209655762, Validation accuracy: 61.64%\n",
      "Epoch 30, CIFAR-10 Batch 4:  Validation cost: 1.0988528728485107, Validation accuracy: 62.36%\n",
      "Epoch 30, CIFAR-10 Batch 5:  Validation cost: 1.11385178565979, Validation accuracy: 60.48%\n",
      "Epoch 31, CIFAR-10 Batch 1:  Validation cost: 1.1068917512893677, Validation accuracy: 61.96%\n",
      "Epoch 31, CIFAR-10 Batch 2:  Validation cost: 1.1464883089065552, Validation accuracy: 60.02%\n",
      "Epoch 31, CIFAR-10 Batch 3:  Validation cost: 1.112911581993103, Validation accuracy: 61.04%\n",
      "Epoch 31, CIFAR-10 Batch 4:  Validation cost: 1.1138784885406494, Validation accuracy: 61.40%\n",
      "Epoch 31, CIFAR-10 Batch 5:  Validation cost: 1.1048396825790405, Validation accuracy: 61.08%\n",
      "Epoch 32, CIFAR-10 Batch 1:  Validation cost: 1.146812915802002, Validation accuracy: 60.94%\n",
      "Epoch 32, CIFAR-10 Batch 2:  Validation cost: 1.1129690408706665, Validation accuracy: 61.00%\n",
      "Epoch 32, CIFAR-10 Batch 3:  Validation cost: 1.108415961265564, Validation accuracy: 60.96%\n",
      "Epoch 32, CIFAR-10 Batch 4:  Validation cost: 1.0918223857879639, Validation accuracy: 61.96%\n",
      "Epoch 32, CIFAR-10 Batch 5:  Validation cost: 1.0841076374053955, Validation accuracy: 61.80%\n",
      "Epoch 33, CIFAR-10 Batch 1:  Validation cost: 1.0937074422836304, Validation accuracy: 62.42%\n",
      "Epoch 33, CIFAR-10 Batch 2:  Validation cost: 1.0853617191314697, Validation accuracy: 61.98%\n",
      "Epoch 33, CIFAR-10 Batch 3:  Validation cost: 1.1057164669036865, Validation accuracy: 61.08%\n",
      "Epoch 33, CIFAR-10 Batch 4:  Validation cost: 1.1120083332061768, Validation accuracy: 60.80%\n",
      "Epoch 33, CIFAR-10 Batch 5:  Validation cost: 1.1022286415100098, Validation accuracy: 61.14%\n",
      "Epoch 34, CIFAR-10 Batch 1:  Validation cost: 1.1120456457138062, Validation accuracy: 60.96%\n",
      "Epoch 34, CIFAR-10 Batch 2:  Validation cost: 1.1062798500061035, Validation accuracy: 62.28%\n",
      "Epoch 34, CIFAR-10 Batch 3:  Validation cost: 1.0868144035339355, Validation accuracy: 62.20%\n",
      "Epoch 34, CIFAR-10 Batch 4:  Validation cost: 1.0912866592407227, Validation accuracy: 62.40%\n",
      "Epoch 34, CIFAR-10 Batch 5:  Validation cost: 1.0896036624908447, Validation accuracy: 61.54%\n",
      "Epoch 35, CIFAR-10 Batch 1:  Validation cost: 1.1154993772506714, Validation accuracy: 61.22%\n",
      "Epoch 35, CIFAR-10 Batch 2:  Validation cost: 1.0887516736984253, Validation accuracy: 62.22%\n",
      "Epoch 35, CIFAR-10 Batch 3:  Validation cost: 1.1039727926254272, Validation accuracy: 60.66%\n",
      "Epoch 35, CIFAR-10 Batch 4:  Validation cost: 1.088543176651001, Validation accuracy: 61.84%\n",
      "Epoch 35, CIFAR-10 Batch 5:  Validation cost: 1.0968141555786133, Validation accuracy: 61.36%\n"
     ]
    }
   ],
   "source": [
    "\"\"\"\n",
    "DON'T MODIFY ANYTHING IN THIS CELL\n",
    "\"\"\"\n",
    "save_model_path = './image_classification'\n",
    "\n",
    "print('Training...')\n",
    "with tf.Session() as sess:\n",
    "    # Initializing the variables\n",
    "    sess.run(tf.global_variables_initializer())\n",
    "    \n",
    "    # Training cycle\n",
    "    for epoch in range(epochs):\n",
    "        # Loop over all batches\n",
    "        n_batches = 5\n",
    "        for batch_i in range(1, n_batches + 1):\n",
    "            for batch_features, batch_labels in helper.load_preprocess_training_batch(batch_i, batch_size):\n",
    "                train_neural_network(sess, optimizer, keep_probability, batch_features, batch_labels)\n",
    "            print('Epoch {:>2}, CIFAR-10 Batch {}:  '.format(epoch + 1, batch_i), end='')\n",
    "            print_stats(sess, batch_features, batch_labels, cost, accuracy)\n",
    "            \n",
    "    # Save Model\n",
    "    saver = tf.train.Saver()\n",
    "    save_path = saver.save(sess, save_model_path)"
   ]
  },
  {
   "cell_type": "markdown",
   "metadata": {
    "deletable": true,
    "editable": true
   },
   "source": [
    "# Checkpoint\n",
    "The model has been saved to disk.\n",
    "## Test Model\n",
    "Test your model against the test dataset.  This will be your final accuracy. You should have an accuracy greater than 50%. If you don't, keep tweaking the model architecture and parameters."
   ]
  },
  {
   "cell_type": "code",
   "execution_count": 18,
   "metadata": {
    "collapsed": false,
    "deletable": true,
    "editable": true,
    "scrolled": false
   },
   "outputs": [
    {
     "name": "stdout",
     "output_type": "stream",
     "text": [
      "Testing Accuracy: 0.61923828125\n",
      "\n"
     ]
    },
    {
     "data": {
      "image/png": "[encoded data removed]",
      "text/plain": [
       "<matplotlib.figure.Figure at 0x7f748025cfd0>"
      ]
     },
     "metadata": {
      "image/png": {
       "height": 319,
       "width": 355
      }
     },
     "output_type": "display_data"
    }
   ],
   "source": [
    "\"\"\"\n",
    "DON'T MODIFY ANYTHING IN THIS CELL\n",
    "\"\"\"\n",
    "%matplotlib inline\n",
    "%config InlineBackend.figure_format = 'retina'\n",
    "\n",
    "import tensorflow as tf\n",
    "import pickle\n",
    "import helper\n",
    "import random\n",
    "\n",
    "# Set batch size if not already set\n",
    "try:\n",
    "    if batch_size:\n",
    "        pass\n",
    "except NameError:\n",
    "    batch_size = 64\n",
    "\n",
    "save_model_path = './image_classification'\n",
    "n_samples = 4\n",
    "top_n_predictions = 3\n",
    "\n",
    "def test_model():\n",
    "    \"\"\"\n",
    "    Test the saved model against the test dataset\n",
    "    \"\"\"\n",
    "\n",
    "    test_features, test_labels = pickle.load(open('preprocess_training.p', mode='rb'))\n",
    "    loaded_graph = tf.Graph()\n",
    "\n",
    "    with tf.Session(graph=loaded_graph) as sess:\n",
    "        # Load model\n",
    "        loader = tf.train.import_meta_graph(save_model_path + '.meta')\n",
    "        loader.restore(sess, save_model_path)\n",
    "\n",
    "        # Get Tensors from loaded model\n",
    "        loaded_x = loaded_graph.get_tensor_by_name('x:0')\n",
    "        loaded_y = loaded_graph.get_tensor_by_name('y:0')\n",
    "        loaded_keep_prob = loaded_graph.get_tensor_by_name('keep_prob:0')\n",
    "        loaded_logits = loaded_graph.get_tensor_by_name('logits:0')\n",
    "        loaded_acc = loaded_graph.get_tensor_by_name('accuracy:0')\n",
    "        \n",
    "        # Get accuracy in batches for memory limitations\n",
    "        test_batch_acc_total = 0\n",
    "        test_batch_count = 0\n",
    "        \n",
    "        for train_feature_batch, train_label_batch in helper.batch_features_labels(test_features, test_labels, batch_size):\n",
    "            test_batch_acc_total += sess.run(\n",
    "                loaded_acc,\n",
    "                feed_dict={loaded_x: train_feature_batch, loaded_y: train_label_batch, loaded_keep_prob: 1.0})\n",
    "            test_batch_count += 1\n",
    "\n",
    "        print('Testing Accuracy: {}\\n'.format(test_batch_acc_total/test_batch_count))\n",
    "\n",
    "        # Print Random Samples\n",
    "        random_test_features, random_test_labels = tuple(zip(*random.sample(list(zip(test_features, test_labels)), n_samples)))\n",
    "        random_test_predictions = sess.run(\n",
    "            tf.nn.top_k(tf.nn.softmax(loaded_logits), top_n_predictions),\n",
    "            feed_dict={loaded_x: random_test_features, loaded_y: random_test_labels, loaded_keep_prob: 1.0})\n",
    "        helper.display_image_predictions(random_test_features, random_test_labels, random_test_predictions)\n",
    "\n",
    "\n",
    "test_model()"
   ]
  },
  {
   "cell_type": "markdown",
   "metadata": {
    "deletable": true,
    "editable": true
   },
   "source": [
    "## Why 50-70% Accuracy?\n",
    "You might be wondering why you can't get an accuracy any higher. First things first, 50% isn't bad for a simple CNN.  Pure guessing would get you 10% accuracy. However, you might notice people are getting scores [well above 70%](http://rodrigob.github.io/are_we_there_yet/build/classification_datasets_results.html#43494641522d3130).  That's because we haven't taught you all there is to know about neural networks. We still need to cover a few more techniques.\n",
    "## Submitting This Project\n",
    "When submitting this project, make sure to run all the cells before saving the notebook.  Save the notebook file as \"dlnd_image_classification.ipynb\" and save it as a HTML file under \"File\" -> \"Download as\".  Include the \"helper.py\" and \"problem_unittests.py\" files in your submission."
   ]
  }
 ],
 "metadata": {
  "kernelspec": {
   "display_name": "Python 3",
   "language": "python",
   "name": "python3"
  },
  "language_info": {
   "codemirror_mode": {
    "name": "ipython",
    "version": 3
   },
   "file_extension": ".py",
   "mimetype": "text/x-python",
   "name": "python",
   "nbconvert_exporter": "python",
   "pygments_lexer": "ipython3",
   "version": "3.5.3"
  }
 },
 "nbformat": 4,
 "nbformat_minor": 0
}
